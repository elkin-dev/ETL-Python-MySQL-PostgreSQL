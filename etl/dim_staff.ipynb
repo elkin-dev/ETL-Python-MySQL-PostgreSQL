{
 "cells": [
  {
   "cell_type": "markdown",
   "source": [
    "## ETL DIM_STAFF"
   ],
   "metadata": {
    "collapsed": false
   },
   "id": "22fd7ce5ea0ccb2f"
  },
  {
   "cell_type": "code",
   "outputs": [],
   "source": [
    "import pandas as pd\n",
    "from config.db_config import conn, source"
   ],
   "metadata": {
    "collapsed": false,
    "ExecuteTime": {
     "end_time": "2024-02-27T17:18:33.624607Z",
     "start_time": "2024-02-27T17:18:33.621050Z"
    }
   },
   "id": "ac713cfc0789bc0f",
   "execution_count": 98
  },
  {
   "cell_type": "markdown",
   "source": [
    "### EXT"
   ],
   "metadata": {
    "collapsed": false
   },
   "id": "f7f0fe2ed3f2df27"
  },
  {
   "cell_type": "code",
   "outputs": [],
   "source": [
    "df_staff = pd.read_sql_query(\"select * from staff\", source)\n",
    "df_store = pd.read_sql_query(\"select * from store\", source)"
   ],
   "metadata": {
    "collapsed": false,
    "ExecuteTime": {
     "end_time": "2024-02-27T17:18:33.640649Z",
     "start_time": "2024-02-27T17:18:33.626140Z"
    }
   },
   "id": "20faa7377e219bec",
   "execution_count": 99
  },
  {
   "cell_type": "markdown",
   "source": [
    "### TRA"
   ],
   "metadata": {
    "collapsed": false
   },
   "id": "f9f94bc640b49038"
  },
  {
   "cell_type": "code",
   "outputs": [],
   "source": [
    "merge_df = pd.merge(df_staff, df_store, how='inner', on='store_id')\n",
    "merge_df[\"name\"] = merge_df['first_name'] + \" \" + merge_df['last_name']\n",
    "merge_df = merge_df[['name', 'store_id']]\n",
    "merge_df['id_staff'] = range(1, len(merge_df) + 1)\n",
    "df_staff = merge_df[['id_staff', 'name', 'store_id']]\n",
    "df_staff = df_staff.rename(columns = {\"store_id\": \"store\"})\n",
    "df_staff['name'] = (df_staff['name'].astype(str)).str.title()\n",
    "df_staff['store'] = (df_staff['store'].astype(str)).str.title()"
   ],
   "metadata": {
    "collapsed": false,
    "ExecuteTime": {
     "end_time": "2024-02-27T17:18:33.652245Z",
     "start_time": "2024-02-27T17:18:33.641653Z"
    }
   },
   "id": "c6353e668287dc0a",
   "execution_count": 100
  },
  {
   "cell_type": "markdown",
   "source": [
    "### CAR"
   ],
   "metadata": {
    "collapsed": false
   },
   "id": "d13f00a5e1685d1"
  },
  {
   "cell_type": "code",
   "outputs": [
    {
     "name": "stdout",
     "output_type": "stream",
     "text": [
      "Se afectaron 2 filas exitosamente.\n"
     ]
    }
   ],
   "source": [
    "cursor = conn.cursor()\n",
    "try:\n",
    "    insert_query = \"\"\"\n",
    "        INSERT INTO dim_staff (id_staff, name, store) \n",
    "        VALUES (%s, %s, %s)\n",
    "        ON CONFLICT (id_staff) DO UPDATE\n",
    "        SET name = EXCLUDED.name, store = EXCLUDED.store;\n",
    "        \"\"\"\n",
    "    filas = 0\n",
    "    for index, row in df_staff.iterrows():\n",
    "        values = tuple(row)\n",
    "        cursor.execute(insert_query, values)\n",
    "        filas += 1\n",
    "    conn.commit()\n",
    "    print(f\"Se afectaron {filas} filas exitosamente.\")\n",
    "except Exception as e:\n",
    "    conn.rollback()\n",
    "    print(\"Error durante la insercion:\", e)\n",
    "finally:\n",
    "    cursor.close()"
   ],
   "metadata": {
    "collapsed": false,
    "ExecuteTime": {
     "end_time": "2024-02-27T17:18:33.662385Z",
     "start_time": "2024-02-27T17:18:33.654252Z"
    }
   },
   "id": "c050103dff3e09ec",
   "execution_count": 101
  }
 ],
 "metadata": {
  "kernelspec": {
   "display_name": "Python 3",
   "language": "python",
   "name": "python3"
  },
  "language_info": {
   "codemirror_mode": {
    "name": "ipython",
    "version": 2
   },
   "file_extension": ".py",
   "mimetype": "text/x-python",
   "name": "python",
   "nbconvert_exporter": "python",
   "pygments_lexer": "ipython2",
   "version": "2.7.6"
  }
 },
 "nbformat": 4,
 "nbformat_minor": 5
}
