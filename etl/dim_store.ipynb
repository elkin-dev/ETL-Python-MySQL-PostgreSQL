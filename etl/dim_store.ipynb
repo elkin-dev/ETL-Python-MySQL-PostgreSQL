{
 "cells": [
  {
   "cell_type": "markdown",
   "source": [
    "## ETL DIM_STORE"
   ],
   "metadata": {
    "collapsed": false
   },
   "id": "279dbbd5bdfe503"
  },
  {
   "cell_type": "code",
   "outputs": [],
   "source": [
    "import pandas as pd\n",
    "from config.db_config import source, conn"
   ],
   "metadata": {
    "collapsed": false,
    "ExecuteTime": {
     "end_time": "2024-02-27T17:56:00.817246Z",
     "start_time": "2024-02-27T17:56:00.813468Z"
    }
   },
   "id": "41bc073d494c0aee",
   "execution_count": 65
  },
  {
   "cell_type": "markdown",
   "source": [
    "### CAR"
   ],
   "metadata": {
    "collapsed": false
   },
   "id": "95ba410d0c54db6d"
  },
  {
   "cell_type": "code",
   "outputs": [],
   "source": [
    "df_store = pd.read_sql_query('select * from store', source)\n",
    "df_address = pd.read_sql_query(\"select * from address\", source)\n",
    "df_city = pd.read_sql_query(\"select * from city\", source)\n",
    "df_country = pd.read_sql_query(\"select * from country\", source)"
   ],
   "metadata": {
    "collapsed": false,
    "ExecuteTime": {
     "end_time": "2024-02-27T17:56:00.860432Z",
     "start_time": "2024-02-27T17:56:00.829775Z"
    }
   },
   "id": "64a9abf2a240c1e9",
   "execution_count": 66
  },
  {
   "cell_type": "markdown",
   "source": [
    "### TRA"
   ],
   "metadata": {
    "collapsed": false
   },
   "id": "982920d99651f62a"
  },
  {
   "cell_type": "code",
   "outputs": [],
   "source": [
    "merged_df = pd.merge(df_store, df_address, how='inner', on='address_id')\n",
    "merged_df = pd.merge(merged_df, df_city, how='inner', on='city_id')\n",
    "merged_df = pd.merge(merged_df, df_country, how='inner', on='country_id', suffixes=('merged', '_last_update_x'))\n",
    "df_dim_store = merged_df[['address', 'city', 'country']].copy()\n",
    "df_dim_store['id_store'] = range(1, len(df_dim_store) + 1)\n",
    "df_dim_store= df_dim_store[['id_store', 'address', 'city', 'country']]\n",
    "df_dim_store = df_dim_store.rename(columns={'address': 'address_store', 'city': 'city_store'})"
   ],
   "metadata": {
    "collapsed": false,
    "ExecuteTime": {
     "end_time": "2024-02-27T17:56:00.876194Z",
     "start_time": "2024-02-27T17:56:00.862440Z"
    }
   },
   "id": "2b232be937c543ca",
   "execution_count": 67
  },
  {
   "cell_type": "markdown",
   "source": [
    "### CAR"
   ],
   "metadata": {
    "collapsed": false
   },
   "id": "800dceb4c25b554a"
  },
  {
   "cell_type": "code",
   "outputs": [
    {
     "name": "stdout",
     "output_type": "stream",
     "text": [
      "Se afectaron 2 filas exitosamente.\n"
     ]
    }
   ],
   "source": [
    "cursor = conn.cursor()\n",
    "try:\n",
    "    insert_query = \"\"\"\n",
    "        INSERT INTO dim_store (id_store, address_store, city_store, country)\n",
    "        VALUES (%s, %s, %s, %s)\n",
    "        ON CONFLICT (id_store) DO UPDATE\n",
    "        SET address_store = EXCLUDED.address_store, city_store = EXCLUDED.city_store, country = EXCLUDED.country\n",
    "    \"\"\"    \n",
    "    filas = 0\n",
    "    for index, row in df_dim_store.iterrows():\n",
    "        values = tuple(row)\n",
    "        cursor.execute(insert_query, values)\n",
    "        filas += 1\n",
    "    conn.commit()\n",
    "    print(f\"Se afectaron {filas} filas exitosamente.\")\n",
    "except Exception as e:\n",
    "    conn.rollback()\n",
    "    print(f\"Error durante la inserccion:\", e)\n",
    "finally:\n",
    "    cursor.close()  "
   ],
   "metadata": {
    "collapsed": false,
    "ExecuteTime": {
     "end_time": "2024-02-27T17:56:00.884702Z",
     "start_time": "2024-02-27T17:56:00.877206Z"
    }
   },
   "id": "6b7e9fbcff0b9a6e",
   "execution_count": 68
  }
 ],
 "metadata": {
  "kernelspec": {
   "display_name": "Python 3",
   "language": "python",
   "name": "python3"
  },
  "language_info": {
   "codemirror_mode": {
    "name": "ipython",
    "version": 2
   },
   "file_extension": ".py",
   "mimetype": "text/x-python",
   "name": "python",
   "nbconvert_exporter": "python",
   "pygments_lexer": "ipython2",
   "version": "2.7.6"
  }
 },
 "nbformat": 4,
 "nbformat_minor": 5
}
