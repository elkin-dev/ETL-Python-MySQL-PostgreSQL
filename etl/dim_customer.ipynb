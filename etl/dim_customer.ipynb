{
 "cells": [
  {
   "cell_type": "markdown",
   "id": "fba1cacca6a9b9f2",
   "metadata": {
    "collapsed": false
   },
   "source": [
    "## ETL DIM_CUSTOMER"
   ]
  },
  {
   "cell_type": "code",
   "execution_count": 47,
   "id": "b7d9847b37ae8c4f",
   "metadata": {
    "collapsed": false,
    "ExecuteTime": {
     "end_time": "2024-02-27T17:58:10.544155Z",
     "start_time": "2024-02-27T17:58:10.526448Z"
    }
   },
   "outputs": [],
   "source": [
    "import pandas as pd\n",
    "import  numpy as np\n",
    "from config.db_config import conn, source"
   ]
  },
  {
   "cell_type": "markdown",
   "id": "956cbb5c553f9f99",
   "metadata": {
    "collapsed": false
   },
   "source": [
    "### Extracción"
   ]
  },
  {
   "cell_type": "code",
   "execution_count": 48,
   "id": "a7d9535370ec7caa",
   "metadata": {
    "collapsed": false,
    "ExecuteTime": {
     "end_time": "2024-02-27T17:58:10.618798Z",
     "start_time": "2024-02-27T17:58:10.547162Z"
    }
   },
   "outputs": [],
   "source": [
    "# DataFrames para customer, addres\n",
    "df_customers = pd.read_sql_query('select * from customer', source)\n",
    "df_addres = pd.read_sql_query('select * from address', source)\n",
    "df_city = pd.read_sql_query('select * from city', source)\n",
    "df_country = pd.read_sql_query('select * from country', source)"
   ]
  },
  {
   "cell_type": "markdown",
   "id": "8179c2ec4f2a833b",
   "metadata": {
    "collapsed": false
   },
   "source": [
    "## Transformación"
   ]
  },
  {
   "cell_type": "code",
   "execution_count": 49,
   "id": "eb04e0471aeb0374",
   "metadata": {
    "collapsed": false,
    "ExecuteTime": {
     "end_time": "2024-02-27T17:58:10.649Z",
     "start_time": "2024-02-27T17:58:10.619804Z"
    }
   },
   "outputs": [],
   "source": [
    "merged_df = pd.merge(df_customers, df_addres, on='address_id', how='inner', suffixes=('_customers', '_address'))\n",
    "merged_df = pd.merge(merged_df, df_city, on='city_id', how='inner', suffixes=('_merged', '_city'))\n",
    "merged_df = pd.merge(merged_df, df_country, on='country_id', how='inner', suffixes=('_merged', '_country'))"
   ]
  },
  {
   "cell_type": "code",
   "execution_count": 50,
   "id": "c4d351e2f8ed6829",
   "metadata": {
    "collapsed": false,
    "ExecuteTime": {
     "end_time": "2024-02-27T17:58:10.660105Z",
     "start_time": "2024-02-27T17:58:10.650007Z"
    }
   },
   "outputs": [],
   "source": [
    "merged_df['full_name'] = merged_df['first_name'] + ' ' + merged_df['last_name']\n",
    "merged_df = merged_df[['full_name', 'address', 'city', 'country']]\n",
    "merged_df.columns = ['full_name', 'address', 'city', 'country']"
   ]
  },
  {
   "cell_type": "code",
   "execution_count": 51,
   "id": "93cd54193ce7d35f",
   "metadata": {
    "collapsed": false,
    "ExecuteTime": {
     "end_time": "2024-02-27T17:58:10.667663Z",
     "start_time": "2024-02-27T17:58:10.662114Z"
    }
   },
   "outputs": [],
   "source": [
    "merged_df['id'] = np.arange(1, len(merged_df) + 1)\n",
    "df_dim_customer = merged_df[['id', 'full_name', 'address', 'city', 'country']]"
   ]
  },
  {
   "cell_type": "code",
   "execution_count": 52,
   "id": "650fd4a2f825e69e",
   "metadata": {
    "collapsed": false,
    "ExecuteTime": {
     "end_time": "2024-02-27T17:58:10.677686Z",
     "start_time": "2024-02-27T17:58:10.669211Z"
    }
   },
   "outputs": [],
   "source": [
    "df_dim_customer['id'] = df_dim_customer['id'].astype(int)\n",
    "df_dim_customer['full_name'] = (df_dim_customer['full_name'].astype(str)).str.title()\n",
    "df_dim_customer['address'] = (df_dim_customer['address'].astype(str)).str.title()\n",
    "df_dim_customer['city'] = (df_dim_customer['city'].astype(str)).str.title()\n",
    "df_dim_customer['country'] = (df_dim_customer['country'].astype(str)).str.title()"
   ]
  },
  {
   "cell_type": "code",
   "execution_count": 53,
   "id": "7ee11b865e518d0e",
   "metadata": {
    "collapsed": false,
    "ExecuteTime": {
     "end_time": "2024-02-27T17:58:10.683853Z",
     "start_time": "2024-02-27T17:58:10.679205Z"
    }
   },
   "outputs": [],
   "source": [
    "df_dim_customer.rename(columns={'id' : 'id_customer', 'full_name' : 'name_customer', 'address' : 'address_customer', 'city' : 'city_customer', 'country': 'country_customer'}, inplace=True)"
   ]
  },
  {
   "cell_type": "markdown",
   "id": "f228d556ce3dfea",
   "metadata": {
    "collapsed": false
   },
   "source": [
    "## Carga"
   ]
  },
  {
   "cell_type": "code",
   "outputs": [
    {
     "name": "stdout",
     "output_type": "stream",
     "text": [
      "Se afectaron 599 filas exitosamente.\n"
     ]
    }
   ],
   "source": [
    "cursor = conn.cursor()\n",
    "try:\n",
    "    table_name = 'dim_customer'\n",
    "    insert_query = \"\"\"\n",
    "        INSERT INTO dim_customer (id_customer, name_customer, address_customer, city_customer, country_customer)\n",
    "        VALUES (%s, %s, %s, %s, %s)\n",
    "        ON CONFLICT (id_customer) DO UPDATE\n",
    "        SET name_customer = EXCLUDED.name_customer, address_customer = EXCLUDED.address_customer, city_customer = EXCLUDED.city_customer, country_customer = EXCLUDED.country_customer;\n",
    "    \"\"\"\n",
    "    filas_insertadas = 0\n",
    "    for index, row in df_dim_customer.iterrows():\n",
    "        values = tuple(row)\n",
    "        cursor.execute(insert_query, values)\n",
    "        filas_insertadas += 1\n",
    "    conn.commit()\n",
    "    print(f\"Se afectaron {filas_insertadas} filas exitosamente.\")\n",
    "except Exception as e:\n",
    "    conn.rollback()\n",
    "    print(\"Error durante la insercion:\", e)\n",
    "finally:\n",
    "    cursor.close()  \n",
    "    "
   ],
   "metadata": {
    "collapsed": false,
    "ExecuteTime": {
     "end_time": "2024-02-27T17:58:10.835807Z",
     "start_time": "2024-02-27T17:58:10.684861Z"
    }
   },
   "id": "654fcb0837ad75cd",
   "execution_count": 54
  }
 ],
 "metadata": {
  "kernelspec": {
   "display_name": "Python 3",
   "language": "python",
   "name": "python3"
  },
  "language_info": {
   "codemirror_mode": {
    "name": "ipython",
    "version": 3
   },
   "file_extension": ".py",
   "mimetype": "text/x-python",
   "name": "python",
   "nbconvert_exporter": "python",
   "pygments_lexer": "ipython3",
   "version": "3.12.2"
  }
 },
 "nbformat": 4,
 "nbformat_minor": 5
}
