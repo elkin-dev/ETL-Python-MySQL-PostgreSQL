{
 "cells": [
  {
   "cell_type": "markdown",
   "id": "fba1cacca6a9b9f2",
   "metadata": {
    "collapsed": false
   },
   "source": [
    "## ETL DIM_CUSTOMER"
   ]
  },
  {
   "cell_type": "code",
   "execution_count": 18,
   "id": "b7d9847b37ae8c4f",
   "metadata": {
    "collapsed": false,
    "ExecuteTime": {
     "end_time": "2024-02-25T03:09:40.592960Z",
     "start_time": "2024-02-25T03:09:40.588558Z"
    }
   },
   "outputs": [],
   "source": [
    "import pandas as pd\n",
    "import  numpy as np\n",
    "from config.db_config import conn, target, source"
   ]
  },
  {
   "cell_type": "markdown",
   "id": "956cbb5c553f9f99",
   "metadata": {
    "collapsed": false
   },
   "source": [
    "### Extracción"
   ]
  },
  {
   "cell_type": "code",
   "execution_count": 19,
   "id": "a7d9535370ec7caa",
   "metadata": {
    "collapsed": false,
    "ExecuteTime": {
     "end_time": "2024-02-25T03:09:40.642952Z",
     "start_time": "2024-02-25T03:09:40.599777Z"
    }
   },
   "outputs": [],
   "source": [
    "# DataFrames para customer, addres\n",
    "df_customers = pd.read_sql_query('select * from customer', source)\n",
    "df_addres = pd.read_sql_query('select * from address', source)\n",
    "df_city = pd.read_sql_query('select * from city', source)\n",
    "df_country = pd.read_sql_query('select * from country', source)"
   ]
  },
  {
   "cell_type": "markdown",
   "id": "8179c2ec4f2a833b",
   "metadata": {
    "collapsed": false
   },
   "source": [
    "## Transformación"
   ]
  },
  {
   "cell_type": "code",
   "execution_count": 20,
   "id": "eb04e0471aeb0374",
   "metadata": {
    "collapsed": false,
    "ExecuteTime": {
     "end_time": "2024-02-25T03:09:40.657230Z",
     "start_time": "2024-02-25T03:09:40.644038Z"
    }
   },
   "outputs": [],
   "source": [
    "merged_df = pd.merge(df_customers, df_addres, on='address_id', how='inner', suffixes=('_customers', '_address'))\n",
    "merged_df = pd.merge(merged_df, df_city, on='city_id', how='inner', suffixes=('_merged', '_city'))\n",
    "merged_df = pd.merge(merged_df, df_country, on='country_id', how='inner', suffixes=('_merged', '_country'))"
   ]
  },
  {
   "cell_type": "code",
   "execution_count": 21,
   "id": "c4d351e2f8ed6829",
   "metadata": {
    "collapsed": false,
    "ExecuteTime": {
     "end_time": "2024-02-25T03:09:40.664598Z",
     "start_time": "2024-02-25T03:09:40.658328Z"
    }
   },
   "outputs": [],
   "source": [
    "merged_df['full_name'] = merged_df['first_name'] + ' ' + merged_df['last_name']\n",
    "merged_df = merged_df[['full_name', 'address', 'city', 'country']]\n",
    "merged_df.columns = ['full_name', 'address', 'city', 'country']"
   ]
  },
  {
   "cell_type": "code",
   "execution_count": 22,
   "id": "93cd54193ce7d35f",
   "metadata": {
    "collapsed": false,
    "ExecuteTime": {
     "end_time": "2024-02-25T03:09:40.672179Z",
     "start_time": "2024-02-25T03:09:40.666787Z"
    }
   },
   "outputs": [],
   "source": [
    "merged_df['id'] = np.arange(1, len(merged_df) + 1)\n",
    "df_dim_customer = merged_df[['id', 'full_name', 'address', 'city', 'country']]"
   ]
  },
  {
   "cell_type": "code",
   "execution_count": 23,
   "id": "650fd4a2f825e69e",
   "metadata": {
    "collapsed": false,
    "ExecuteTime": {
     "end_time": "2024-02-25T03:09:40.681482Z",
     "start_time": "2024-02-25T03:09:40.674238Z"
    }
   },
   "outputs": [],
   "source": [
    "df_dim_customer['id'] = df_dim_customer['id'].astype(int)\n",
    "df_dim_customer['full_name'] = (df_dim_customer['full_name'].astype(str)).str.title()\n",
    "df_dim_customer['address'] = (df_dim_customer['address'].astype(str)).str.title()\n",
    "df_dim_customer['city'] = (df_dim_customer['city'].astype(str)).str.title()\n",
    "df_dim_customer['country'] = (df_dim_customer['country'].astype(str)).str.title()"
   ]
  },
  {
   "cell_type": "code",
   "execution_count": 24,
   "id": "7ee11b865e518d0e",
   "metadata": {
    "collapsed": false,
    "ExecuteTime": {
     "end_time": "2024-02-25T03:09:40.688720Z",
     "start_time": "2024-02-25T03:09:40.682494Z"
    }
   },
   "outputs": [],
   "source": [
    "df_dim_customer.rename(columns={'id' : 'id_customer', 'full_name' : 'name_customer', 'address' : 'address_customer', 'city' : 'city_customer', 'country': 'country_customer'}, inplace=True)"
   ]
  },
  {
   "cell_type": "code",
   "execution_count": 25,
   "id": "2f70248d0834893c",
   "metadata": {
    "collapsed": false,
    "ExecuteTime": {
     "end_time": "2024-02-25T03:09:40.695232Z",
     "start_time": "2024-02-25T03:09:40.689726Z"
    }
   },
   "outputs": [],
   "source": [
    "df_dim_customer = df_dim_customer.drop(columns=['id_customer'])"
   ]
  },
  {
   "cell_type": "markdown",
   "id": "f228d556ce3dfea",
   "metadata": {
    "collapsed": false
   },
   "source": [
    "## Carga"
   ]
  },
  {
   "cell_type": "code",
   "execution_count": 27,
   "id": "84b3d8c3c23f642a",
   "metadata": {
    "collapsed": false,
    "ExecuteTime": {
     "end_time": "2024-02-25T03:09:48.089904Z",
     "start_time": "2024-02-25T03:09:48.080186Z"
    }
   },
   "outputs": [
    {
     "data": {
      "text/plain": "      name_customer   address_customer   city_customer country_customer\n0        Mary Smith     1913 Hanoi Way          Sasebo            Japan\n1  Patricia Johnson   1121 Loja Avenue  San Bernardino    United States\n2    Linda Williams  692 Joliet Street         Athenai           Greece\n3     Barbara Jones  1566 Inegöl Manor        Myingyan          Myanmar\n4   Elizabeth Brown    53 Idfu Parkway          Nantou           Taiwan",
      "text/html": "<div>\n<style scoped>\n    .dataframe tbody tr th:only-of-type {\n        vertical-align: middle;\n    }\n\n    .dataframe tbody tr th {\n        vertical-align: top;\n    }\n\n    .dataframe thead th {\n        text-align: right;\n    }\n</style>\n<table border=\"1\" class=\"dataframe\">\n  <thead>\n    <tr style=\"text-align: right;\">\n      <th></th>\n      <th>name_customer</th>\n      <th>address_customer</th>\n      <th>city_customer</th>\n      <th>country_customer</th>\n    </tr>\n  </thead>\n  <tbody>\n    <tr>\n      <th>0</th>\n      <td>Mary Smith</td>\n      <td>1913 Hanoi Way</td>\n      <td>Sasebo</td>\n      <td>Japan</td>\n    </tr>\n    <tr>\n      <th>1</th>\n      <td>Patricia Johnson</td>\n      <td>1121 Loja Avenue</td>\n      <td>San Bernardino</td>\n      <td>United States</td>\n    </tr>\n    <tr>\n      <th>2</th>\n      <td>Linda Williams</td>\n      <td>692 Joliet Street</td>\n      <td>Athenai</td>\n      <td>Greece</td>\n    </tr>\n    <tr>\n      <th>3</th>\n      <td>Barbara Jones</td>\n      <td>1566 Inegöl Manor</td>\n      <td>Myingyan</td>\n      <td>Myanmar</td>\n    </tr>\n    <tr>\n      <th>4</th>\n      <td>Elizabeth Brown</td>\n      <td>53 Idfu Parkway</td>\n      <td>Nantou</td>\n      <td>Taiwan</td>\n    </tr>\n  </tbody>\n</table>\n</div>"
     },
     "execution_count": 27,
     "metadata": {},
     "output_type": "execute_result"
    }
   ],
   "source": [
    "df_dim_customer.head()"
   ]
  },
  {
   "cell_type": "code",
   "outputs": [],
   "source": [],
   "metadata": {
    "collapsed": false
   },
   "id": "926479a6ab49fb61"
  }
 ],
 "metadata": {
  "kernelspec": {
   "display_name": "Python 3",
   "language": "python",
   "name": "python3"
  },
  "language_info": {
   "codemirror_mode": {
    "name": "ipython",
    "version": 3
   },
   "file_extension": ".py",
   "mimetype": "text/x-python",
   "name": "python",
   "nbconvert_exporter": "python",
   "pygments_lexer": "ipython3",
   "version": "3.12.2"
  }
 },
 "nbformat": 4,
 "nbformat_minor": 5
}
