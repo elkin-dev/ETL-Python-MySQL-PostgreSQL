{
 "cells": [
  {
   "cell_type": "markdown",
   "source": [
    "## ETL DIM_TIEMPO"
   ],
   "metadata": {
    "collapsed": false
   },
   "id": "8be70691f5442c53"
  },
  {
   "cell_type": "code",
   "outputs": [],
   "source": [
    "import  pandas as pd\n",
    "from config.db_config import source, conn"
   ],
   "metadata": {
    "collapsed": false,
    "ExecuteTime": {
     "end_time": "2024-02-27T19:38:14.785241Z",
     "start_time": "2024-02-27T19:38:14.781921Z"
    }
   },
   "id": "111c27dcd0ab51b3",
   "execution_count": 175
  },
  {
   "cell_type": "markdown",
   "source": [
    "### CAR"
   ],
   "metadata": {
    "collapsed": false
   },
   "id": "8e7320e58465ae82"
  },
  {
   "cell_type": "code",
   "outputs": [],
   "source": [
    "query_rental = \"SELECT DATE(rental_date) AS Date, YEAR(rental_date) AS Year, QUARTER(rental_date) AS Quarter, MONTH(rental_date) AS Month, MONTHNAME(rental_date) AS MonthName, DAY(rental_date) AS Day FROM rental\"\n",
    "\n",
    "query_payment = \"SELECT DATE(payment_date) AS Date, YEAR(payment_date) AS Year, QUARTER(payment_date) AS Quarter, MONTH(payment_date) AS Month, MONTHNAME(payment_date) AS MonthName, DAY(payment_date) AS Day FROM payment\"\n",
    "\n",
    "query_inventory = \"SELECT DATE(last_update) AS Date, YEAR(last_update) AS Year, QUARTER(last_update) AS Quarter, MONTH(last_update) AS Month, MONTHNAME(last_update) AS MonthName, DAY(last_update) AS Day FROM inventory\"\n"
   ],
   "metadata": {
    "collapsed": false,
    "ExecuteTime": {
     "end_time": "2024-02-27T19:38:14.799516Z",
     "start_time": "2024-02-27T19:38:14.795587Z"
    }
   },
   "id": "bcb544f349bb2253",
   "execution_count": 176
  },
  {
   "cell_type": "code",
   "outputs": [],
   "source": [
    "df_rental = pd.read_sql(query_rental, source)\n",
    "df_payment = pd.read_sql(query_payment, source)\n",
    "df_inventory = pd.read_sql(query_inventory, source)"
   ],
   "metadata": {
    "collapsed": false,
    "ExecuteTime": {
     "end_time": "2024-02-27T19:38:15.652976Z",
     "start_time": "2024-02-27T19:38:14.818866Z"
    }
   },
   "id": "303290b5eb9730e4",
   "execution_count": 177
  },
  {
   "cell_type": "markdown",
   "source": [
    "### TRA"
   ],
   "metadata": {
    "collapsed": false
   },
   "id": "41c55005c8568576"
  },
  {
   "cell_type": "code",
   "outputs": [],
   "source": [
    "df_union = pd.concat([df_rental, df_payment, df_inventory], ignore_index=True)\n",
    "df_dim_tiempo = df_union.drop_duplicates()\n",
    "df_dim_tiempo = df_dim_tiempo.copy()\n",
    "df_dim_tiempo['id_dim_tiempo'] = range(1, len(df_dim_tiempo) + 1)\n",
    "df_dim_tiempo = df_dim_tiempo.copy()\n",
    "df_colums = df_dim_tiempo[['id_dim_tiempo', 'Year', 'Month', 'Day']]"
   ],
   "metadata": {
    "collapsed": false,
    "ExecuteTime": {
     "end_time": "2024-02-27T19:38:15.697862Z",
     "start_time": "2024-02-27T19:38:15.654986Z"
    }
   },
   "id": "a992e778c7ae36fe",
   "execution_count": 178
  },
  {
   "cell_type": "code",
   "outputs": [],
   "source": [
    "# Dimension date_inventory\n",
    "df_date_inventory = df_colums.rename(columns={'id_dim_tiempo': 'id_date_inventory', 'Year': 'year', 'Month': 'month', 'Day': 'day'})\n",
    "\n",
    "# Dimension date_rentals\n",
    "df_date_rentals = df_colums.rename(columns={'id_dim_tiempo': 'id_date', 'Year': 'year', 'Month': 'month', 'Day': 'day'})\n",
    "\n",
    "# Dimension date_sales\n",
    "df_date_sales = df_colums.rename(columns={'id_dim_tiempo': 'id_date', 'Year': 'year', 'Month': 'month', 'Day': 'day'})"
   ],
   "metadata": {
    "collapsed": false,
    "ExecuteTime": {
     "end_time": "2024-02-27T19:38:15.706671Z",
     "start_time": "2024-02-27T19:38:15.699870Z"
    }
   },
   "id": "43afca67237e8ef3",
   "execution_count": 179
  },
  {
   "cell_type": "markdown",
   "source": [
    "### CAR "
   ],
   "metadata": {
    "collapsed": false
   },
   "id": "3e00369747a21cef"
  },
  {
   "cell_type": "code",
   "outputs": [
    {
     "name": "stdout",
     "output_type": "stream",
     "text": [
      "Filas de inventario afectadas: 42\n",
      "Filas de alquileres afectadas: 42\n",
      "Filas de ventas afectadas: 42\n"
     ]
    }
   ],
   "source": [
    "cursor = conn.cursor()\n",
    "try:\n",
    "    insert_inventory = \"\"\"\n",
    "        INSERT INTO date_inventory (id_date_inventory, year, month, day) VALUES (%s, %s, %s, %s)\n",
    "        ON CONFLICT (id_date_inventory) DO UPDATE\n",
    "        SET year = EXCLUDED.year, month = EXCLUDED.month, day = EXCLUDED.day\n",
    "    \"\"\"\n",
    "    insert_rentals = \"\"\"\n",
    "        INSERT INTO date_rentals (id_date, year, month, day) VALUES (%s, %s, %s, %s)\n",
    "        ON CONFLICT (id_date) DO UPDATE\n",
    "        SET year = EXCLUDED.year, month = EXCLUDED.month, day = EXCLUDED.day\n",
    "    \"\"\"\n",
    "    insert_sales = \"\"\"\n",
    "        INSERT INTO date_sales (id_date, year, month, day) VALUES (%s, %s, %s, %s)\n",
    "        ON CONFLICT (id_date) DO UPDATE\n",
    "        SET year = EXCLUDED.year, month = EXCLUDED.month, day = EXCLUDED.day\n",
    "    \"\"\"\n",
    "\n",
    "    def insert_data_to_database(df, cursor, insert_query):\n",
    "        rows_affected = 0\n",
    "        for index, row in df.iterrows():\n",
    "            values = tuple(row)\n",
    "            cursor.execute(insert_query, values)\n",
    "            rows_affected += 1\n",
    "        return rows_affected\n",
    "\n",
    "    rows_inventory = insert_data_to_database(df_date_inventory, cursor, insert_inventory)\n",
    "    rows_rentals = insert_data_to_database(df_date_rentals, cursor, insert_rentals)\n",
    "    rows_sales = insert_data_to_database(df_date_sales, cursor, insert_sales)\n",
    "\n",
    "    conn.commit()\n",
    "    print(f\"Filas de inventario afectadas: {rows_inventory}\")\n",
    "    print(f\"Filas de alquileres afectadas: {rows_rentals}\")\n",
    "    print(f\"Filas de ventas afectadas: {rows_sales}\")\n",
    "except Exception as e:\n",
    "    conn.rollback()\n",
    "    print(\"Error durante la insercion:\", e)\n",
    "finally:\n",
    "    cursor.close()\n"
   ],
   "metadata": {
    "collapsed": false,
    "ExecuteTime": {
     "end_time": "2024-02-27T19:38:15.748483Z",
     "start_time": "2024-02-27T19:38:15.708754Z"
    }
   },
   "id": "8a71cd11dfdffde8",
   "execution_count": 180
  }
 ],
 "metadata": {
  "kernelspec": {
   "display_name": "Python 3",
   "language": "python",
   "name": "python3"
  },
  "language_info": {
   "codemirror_mode": {
    "name": "ipython",
    "version": 2
   },
   "file_extension": ".py",
   "mimetype": "text/x-python",
   "name": "python",
   "nbconvert_exporter": "python",
   "pygments_lexer": "ipython2",
   "version": "2.7.6"
  }
 },
 "nbformat": 4,
 "nbformat_minor": 5
}
