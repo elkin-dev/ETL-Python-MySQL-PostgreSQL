{
 "cells": [
  {
   "cell_type": "markdown",
   "metadata": {},
   "source": [
    "## ETL DIM_FILM"
   ]
  },
  {
   "cell_type": "code",
   "execution_count": 224,
   "metadata": {
    "collapsed": false,
    "ExecuteTime": {
     "end_time": "2024-02-27T16:24:37.344108Z",
     "start_time": "2024-02-27T16:24:37.339588Z"
    }
   },
   "outputs": [],
   "source": [
    "import pandas as pd\n",
    "from config.db_config import conn, target, source"
   ]
  },
  {
   "cell_type": "code",
   "execution_count": 225,
   "metadata": {
    "collapsed": false,
    "ExecuteTime": {
     "end_time": "2024-02-27T16:24:37.456014Z",
     "start_time": "2024-02-27T16:24:37.396245Z"
    }
   },
   "outputs": [],
   "source": [
    "# Base de datos mysql source\n",
    "df_film = pd.read_sql('select * from film', source)\n",
    "df_film_category = pd.read_sql('select * from film_category', source)\n",
    "df_category = pd.read_sql('select * from category', source)"
   ]
  },
  {
   "cell_type": "markdown",
   "metadata": {},
   "source": [
    "## Extracción"
   ]
  },
  {
   "cell_type": "code",
   "execution_count": 226,
   "metadata": {
    "collapsed": false,
    "ExecuteTime": {
     "end_time": "2024-02-27T16:24:37.558341Z",
     "start_time": "2024-02-27T16:24:37.458034Z"
    }
   },
   "outputs": [],
   "source": [
    "# DataFrames para film, film_category, category \n",
    "df_film = pd.read_sql('select * from film', source)\n",
    "df_film_category = pd.read_sql('select * from film_category', source)\n",
    "df_category = pd.read_sql('select * from category', source)"
   ]
  },
  {
   "cell_type": "markdown",
   "metadata": {
    "collapsed": false
   },
   "source": [
    "## Transformacion"
   ]
  },
  {
   "cell_type": "code",
   "execution_count": 227,
   "metadata": {
    "collapsed": false,
    "ExecuteTime": {
     "end_time": "2024-02-27T16:24:37.586595Z",
     "start_time": "2024-02-27T16:24:37.561364Z"
    }
   },
   "outputs": [],
   "source": [
    "# Realizar los joins\n",
    "merged_df = pd.merge(df_film, df_film_category, on='film_id', how='inner')\n",
    "merged_df = pd.merge(merged_df, df_category, on='category_id', how='inner')"
   ]
  },
  {
   "cell_type": "code",
   "execution_count": 228,
   "metadata": {
    "collapsed": false,
    "ExecuteTime": {
     "end_time": "2024-02-27T16:24:37.603676Z",
     "start_time": "2024-02-27T16:24:37.593622Z"
    }
   },
   "outputs": [],
   "source": [
    "# Generar una columna de ID\n",
    "merged_df['id_film'] = range(1, len(merged_df) + 1)"
   ]
  },
  {
   "cell_type": "code",
   "execution_count": 229,
   "metadata": {
    "collapsed": false,
    "ExecuteTime": {
     "end_time": "2024-02-27T16:24:37.628639Z",
     "start_time": "2024-02-27T16:24:37.613228Z"
    }
   },
   "outputs": [],
   "source": [
    "df_dim_film = merged_df[['id_film', 'title', 'name']]\n",
    "df_dim_film.columns = ['id_film', 'name', 'category']"
   ]
  },
  {
   "cell_type": "code",
   "execution_count": 230,
   "metadata": {
    "collapsed": false,
    "ExecuteTime": {
     "end_time": "2024-02-27T16:24:37.668003Z",
     "start_time": "2024-02-27T16:24:37.634189Z"
    }
   },
   "outputs": [],
   "source": [
    "# Reemplazar valores nulos en las columnas\n",
    "df_dim_film.loc[df_dim_film['id_film'].isnull(), 'id_film'] = -1\n",
    "df_dim_film.loc[df_dim_film['name'].isnull(), 'name'] = 'NO IDENTIFICADO'\n",
    "df_dim_film.loc[df_dim_film['category'].isnull(), 'category'] = 'NO IDENTIFICADO'"
   ]
  },
  {
   "cell_type": "code",
   "execution_count": 231,
   "metadata": {
    "collapsed": false,
    "ExecuteTime": {
     "end_time": "2024-02-27T16:24:37.681844Z",
     "start_time": "2024-02-27T16:24:37.671013Z"
    }
   },
   "outputs": [],
   "source": [
    "# Eliminar duplicados basados en la columna 'id_film'\n",
    "df_dim_film = df_dim_film.drop_duplicates(subset=['id_film'])"
   ]
  },
  {
   "cell_type": "code",
   "execution_count": 232,
   "metadata": {
    "collapsed": false,
    "ExecuteTime": {
     "end_time": "2024-02-27T16:24:37.697546Z",
     "start_time": "2024-02-27T16:24:37.685462Z"
    }
   },
   "outputs": [],
   "source": [
    "# Transformación de tipos de datos\n",
    "df_dim_film['id_film'] = df_dim_film['id_film'].astype(int)\n",
    "df_dim_film['name'] = df_dim_film['name'].astype(str)\n",
    "df_dim_film['category'] = df_dim_film['category'].astype(str)"
   ]
  },
  {
   "cell_type": "code",
   "execution_count": 233,
   "metadata": {
    "collapsed": false,
    "ExecuteTime": {
     "end_time": "2024-02-27T16:24:37.710771Z",
     "start_time": "2024-02-27T16:24:37.700558Z"
    }
   },
   "outputs": [],
   "source": [
    "# Manipulando las cadenas \n",
    "df_dim_film['name'] = df_dim_film['name'].str.title()\n",
    "df_dim_film['category'] = df_dim_film['category'].str.title()"
   ]
  },
  {
   "cell_type": "code",
   "execution_count": 234,
   "metadata": {
    "collapsed": false,
    "ExecuteTime": {
     "end_time": "2024-02-27T16:24:37.722474Z",
     "start_time": "2024-02-27T16:24:37.717305Z"
    }
   },
   "outputs": [],
   "source": [
    "# validación simple\n",
    "# validate_data = df_dim_film[df_dim_film['id_film'] > 0]\n",
    "# validate_data\n",
    "\n",
    "# Manipulación de nombres de columnas (si es necesario)\n",
    "# df_dim_film.rename(columns={'name': 'movie_name'}, inplace=True)\n",
    "# df_dim_film"
   ]
  },
  {
   "cell_type": "markdown",
   "metadata": {
    "collapsed": false
   },
   "source": [
    "## Carga"
   ]
  },
  {
   "cell_type": "code",
   "execution_count": 235,
   "metadata": {
    "collapsed": false,
    "ExecuteTime": {
     "end_time": "2024-02-27T16:24:38.201485Z",
     "start_time": "2024-02-27T16:24:37.727006Z"
    }
   },
   "outputs": [
    {
     "name": "stdout",
     "output_type": "stream",
     "text": [
      "Se afectaron 1000 filas exitosamente.\n"
     ]
    }
   ],
   "source": [
    "cursor = conn.cursor()\n",
    "try:\n",
    "    table_name = 'dim_film'\n",
    "    insert_query = \"\"\"\n",
    "        INSERT INTO dim_film (id_film, name, category) \n",
    "        VALUES (%s, %s, %s)\n",
    "        ON CONFLICT (id_film) DO UPDATE\n",
    "        SET name = EXCLUDED.name, category = EXCLUDED.category;\n",
    "    \"\"\"\n",
    "\n",
    "    filas_insertadas = 0\n",
    "    for index, row in df_dim_film.iterrows():\n",
    "        values = tuple(row)\n",
    "        cursor.execute(insert_query, values)\n",
    "        filas_insertadas += 1\n",
    "    conn.commit()\n",
    "\n",
    "    print(f\"Se afectaron {filas_insertadas} filas exitosamente.\")\n",
    "except Exception as e:\n",
    "    conn.rollback()\n",
    "    print(\"Error durante la inserción:\", e)\n",
    "finally:\n",
    "    cursor.close()\n",
    "    # conn.close()"
   ]
  }
 ],
 "metadata": {
  "kernelspec": {
   "display_name": "env",
   "language": "python",
   "name": "python3"
  },
  "language_info": {
   "codemirror_mode": {
    "name": "ipython",
    "version": 3
   },
   "file_extension": ".py",
   "mimetype": "text/x-python",
   "name": "python",
   "nbconvert_exporter": "python",
   "pygments_lexer": "ipython3",
   "version": "3.12.2"
  }
 },
 "nbformat": 4,
 "nbformat_minor": 2
}
