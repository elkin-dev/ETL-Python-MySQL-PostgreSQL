{
 "cells": [
  {
   "cell_type": "markdown",
   "metadata": {},
   "source": [
    "## ETL DIMENSIONES"
   ]
  },
  {
   "cell_type": "code",
   "execution_count": 1,
   "metadata": {
    "collapsed": false,
    "ExecuteTime": {
     "end_time": "2024-02-25T03:08:31.952502Z",
     "start_time": "2024-02-25T03:08:31.381243Z"
    }
   },
   "outputs": [],
   "source": [
    "import pandas as pd\n",
    "from config.db_config import conn, target, source"
   ]
  },
  {
   "cell_type": "code",
   "execution_count": 2,
   "metadata": {
    "collapsed": false,
    "ExecuteTime": {
     "end_time": "2024-02-25T03:08:32.007319Z",
     "start_time": "2024-02-25T03:08:31.954664Z"
    }
   },
   "outputs": [],
   "source": [
    "# Base de datos mysql source\n",
    "df_film = pd.read_sql('select * from film', source)\n",
    "df_film_category = pd.read_sql('select * from film_category', source)\n",
    "df_category = pd.read_sql('select * from category', source)"
   ]
  },
  {
   "cell_type": "markdown",
   "metadata": {},
   "source": [
    "## Extracción"
   ]
  },
  {
   "cell_type": "code",
   "execution_count": 3,
   "metadata": {
    "collapsed": false,
    "ExecuteTime": {
     "end_time": "2024-02-25T03:08:32.049135Z",
     "start_time": "2024-02-25T03:08:32.008390Z"
    }
   },
   "outputs": [],
   "source": [
    "# DataFrames para film, film_category, category \n",
    "df_film = pd.read_sql('select * from film', source)\n",
    "df_film_category = pd.read_sql('select * from film_category', source)\n",
    "df_category = pd.read_sql('select * from category', source)"
   ]
  },
  {
   "cell_type": "markdown",
   "metadata": {
    "collapsed": false
   },
   "source": [
    "## Transformacion"
   ]
  },
  {
   "cell_type": "code",
   "execution_count": 4,
   "metadata": {
    "collapsed": false,
    "ExecuteTime": {
     "end_time": "2024-02-25T03:08:32.061685Z",
     "start_time": "2024-02-25T03:08:32.050202Z"
    }
   },
   "outputs": [],
   "source": [
    "# Realizar los joins\n",
    "merged_df = pd.merge(df_film, df_film_category, on='film_id', how='inner')\n",
    "merged_df = pd.merge(merged_df, df_category, on='category_id', how='inner')"
   ]
  },
  {
   "cell_type": "code",
   "execution_count": 5,
   "metadata": {
    "collapsed": false,
    "ExecuteTime": {
     "end_time": "2024-02-25T03:08:32.068285Z",
     "start_time": "2024-02-25T03:08:32.062745Z"
    }
   },
   "outputs": [],
   "source": [
    "# Generar una columna de ID\n",
    "merged_df['id_film'] = range(1, len(merged_df) + 1)"
   ]
  },
  {
   "cell_type": "code",
   "execution_count": 6,
   "metadata": {
    "collapsed": false,
    "ExecuteTime": {
     "end_time": "2024-02-25T03:08:32.075411Z",
     "start_time": "2024-02-25T03:08:32.069350Z"
    }
   },
   "outputs": [],
   "source": [
    "df_dim_film = merged_df[['id_film', 'title', 'name']]\n",
    "df_dim_film.columns = ['id_film', 'name', 'category']"
   ]
  },
  {
   "cell_type": "code",
   "execution_count": 7,
   "metadata": {
    "collapsed": false,
    "ExecuteTime": {
     "end_time": "2024-02-25T03:08:32.084253Z",
     "start_time": "2024-02-25T03:08:32.076421Z"
    }
   },
   "outputs": [],
   "source": [
    "# Reemplazar valores nulos en las columnas\n",
    "df_dim_film.loc[df_dim_film['id_film'].isnull(), 'id_film'] = -1\n",
    "df_dim_film.loc[df_dim_film['name'].isnull(), 'name'] = 'NO IDENTIFICADO'\n",
    "df_dim_film.loc[df_dim_film['category'].isnull(), 'category'] = 'NO IDENTIFICADO'"
   ]
  },
  {
   "cell_type": "code",
   "execution_count": 8,
   "metadata": {
    "collapsed": false,
    "ExecuteTime": {
     "end_time": "2024-02-25T03:08:32.090505Z",
     "start_time": "2024-02-25T03:08:32.085276Z"
    }
   },
   "outputs": [],
   "source": [
    "# Eliminar duplicados basados en la columna 'id_film'\n",
    "df_dim_film = df_dim_film.drop_duplicates(subset=['id_film'])"
   ]
  },
  {
   "cell_type": "code",
   "execution_count": 9,
   "metadata": {
    "collapsed": false,
    "ExecuteTime": {
     "end_time": "2024-02-25T03:08:32.097962Z",
     "start_time": "2024-02-25T03:08:32.091565Z"
    }
   },
   "outputs": [],
   "source": [
    "# Transformación de tipos de datos\n",
    "df_dim_film['id_film'] = df_dim_film['id_film'].astype(int)\n",
    "df_dim_film['name'] = df_dim_film['name'].astype(str)\n",
    "df_dim_film['category'] = df_dim_film['category'].astype(str)"
   ]
  },
  {
   "cell_type": "code",
   "execution_count": 10,
   "metadata": {
    "collapsed": false,
    "ExecuteTime": {
     "end_time": "2024-02-25T03:08:32.105311Z",
     "start_time": "2024-02-25T03:08:32.098987Z"
    }
   },
   "outputs": [],
   "source": [
    "# Manipulando las cadenas \n",
    "df_dim_film['name'] = df_dim_film['name'].str.upper()\n",
    "df_dim_film['category'] = df_dim_film['category'].str.upper()"
   ]
  },
  {
   "cell_type": "code",
   "execution_count": 11,
   "metadata": {
    "collapsed": false,
    "ExecuteTime": {
     "end_time": "2024-02-25T03:08:32.111141Z",
     "start_time": "2024-02-25T03:08:32.106373Z"
    }
   },
   "outputs": [],
   "source": [
    "# validación simple\n",
    "# validate_data = df_dim_film[df_dim_film['id_film'] > 0]\n",
    "# validate_data\n",
    "\n",
    "# Manipulación de nombres de columnas (si es necesario)\n",
    "# df_dim_film.rename(columns={'name': 'movie_name'}, inplace=True)\n",
    "# df_dim_film"
   ]
  },
  {
   "cell_type": "markdown",
   "metadata": {
    "collapsed": false
   },
   "source": [
    "## Carga"
   ]
  },
  {
   "cell_type": "code",
   "execution_count": 12,
   "metadata": {
    "collapsed": false,
    "ExecuteTime": {
     "end_time": "2024-02-25T03:08:32.297050Z",
     "start_time": "2024-02-25T03:08:32.112150Z"
    }
   },
   "outputs": [],
   "source": [
    "# Crear un cursor\n",
    "cursor = conn.cursor()\n",
    "\n",
    "# Nombre de la tabla\n",
    "table_name = 'dim_film'\n",
    "\n",
    "# Construir la consulta de inserción\n",
    "insert_query = \"\"\"\n",
    "    INSERT INTO dim_film (id_film, name, category) \n",
    "    VALUES (%s, %s, %s)\n",
    "    ON CONFLICT (id_film) DO UPDATE\n",
    "    SET name = EXCLUDED.name, category = EXCLUDED.category;\n",
    "\"\"\"\n",
    "\n",
    "# Iterar sobre las filas del DataFrame e insertarlas en la tabla\n",
    "for index, row in df_dim_film.iterrows():\n",
    "    # Aquí, suponiendo que las columnas del DataFrame coinciden con las columnas de la tabla\n",
    "    values = tuple(row)\n",
    "    cursor.execute(insert_query, values)\n",
    "\n",
    "# Confirmar la transacción y cerrar el cursor\n",
    "conn.commit()\n",
    "cursor.close()\n",
    "\n",
    "conn.close()"
   ]
  }
 ],
 "metadata": {
  "kernelspec": {
   "display_name": "env",
   "language": "python",
   "name": "python3"
  },
  "language_info": {
   "codemirror_mode": {
    "name": "ipython",
    "version": 3
   },
   "file_extension": ".py",
   "mimetype": "text/x-python",
   "name": "python",
   "nbconvert_exporter": "python",
   "pygments_lexer": "ipython3",
   "version": "3.12.2"
  }
 },
 "nbformat": 4,
 "nbformat_minor": 2
}
